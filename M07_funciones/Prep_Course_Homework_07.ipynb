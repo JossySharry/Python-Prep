{
 "cells": [
  {
   "attachments": {},
   "cell_type": "markdown",
   "metadata": {},
   "source": [
    "## Funciones"
   ]
  },
  {
   "attachments": {},
   "cell_type": "markdown",
   "metadata": {},
   "source": [
    "1) Crear una función que reciba un número como parámetro y devuelva True si es primo y False si no lo es"
   ]
  },
  {
   "cell_type": "code",
   "execution_count": 2,
   "metadata": {},
   "outputs": [],
   "source": [
    "def func_primo(num):\n",
    "    primo = True\n",
    "    for i in range(2, num):\n",
    "        if num % i == 0:\n",
    "            primo = False\n",
    "            break\n",
    "    if primo:\n",
    "        return primo #print('El número', str(num), 'es primo')\n",
    "    else:\n",
    "        return primo #print('El número', str(num), 'no es primo') \n"
   ]
  },
  {
   "cell_type": "code",
   "execution_count": 12,
   "metadata": {},
   "outputs": [
    {
     "data": {
      "text/plain": [
       "False"
      ]
     },
     "execution_count": 12,
     "metadata": {},
     "output_type": "execute_result"
    }
   ],
   "source": [
    "func_primo(10)"
   ]
  },
  {
   "attachments": {},
   "cell_type": "markdown",
   "metadata": {},
   "source": [
    "2) Utilizando la función del punto 1, realizar otra función que reciba de parámetro una lista de números y devuelva sólo aquellos que son primos en otra lista"
   ]
  },
  {
   "cell_type": "code",
   "execution_count": 1,
   "metadata": {},
   "outputs": [],
   "source": [
    "\n",
    "def func_listaPrimos(lista_num):\n",
    "    lista_primos = [] # creamos una lista vacia para almacenar los números primos que encontrará la función\n",
    "    for i in lista_num:# recorremos cada uno de los elementos de la lista \n",
    "        if func_primo(int(i)):#llamamos a la función primo para verificar si el número de la lista es primo, \n",
    "            lista_primos.append(i)# en caso de ser True, se almacena el valor en la lista vacia\n",
    "    return lista_primos#devuelve la lista de primos"
   ]
  },
  {
   "cell_type": "code",
   "execution_count": 3,
   "metadata": {},
   "outputs": [
    {
     "data": {
      "text/plain": [
       "[1, 5, 2, 7, 11]"
      ]
     },
     "execution_count": 3,
     "metadata": {},
     "output_type": "execute_result"
    }
   ],
   "source": [
    "lista_num = [1,5,2,6,7,12,18,21,35,94,11,8,9]\n",
    "func_listaPrimos(lista_num)"
   ]
  },
  {
   "attachments": {},
   "cell_type": "markdown",
   "metadata": {},
   "source": [
    "3) Crear una función que al recibir una lista de números, devuelva el que más se repite y cuántas veces lo hace. Si hay más de un \"más repetido\", que devuelva cualquiera"
   ]
  },
  {
   "cell_type": "code",
   "execution_count": 4,
   "metadata": {},
   "outputs": [],
   "source": [
    "def elemento_mas_repetido(lista):\n",
    "    contador = {}#creamos un diciconario vacio para almacenar la cantidad de veces que un elemento parece en la lista\n",
    "    for elemento in lista:\n",
    "        if elemento in contador:\n",
    "            contador[elemento] += 1\n",
    "        else:\n",
    "            contador[elemento] = 1\n",
    "    \n",
    "    elemento_mas_repetido = None\n",
    "    max_repeticiones = 0\n",
    "    for elemento, repeticiones in contador.items():\n",
    "        if repeticiones > max_repeticiones:\n",
    "            max_repeticiones = repeticiones\n",
    "            elemento_mas_repetido = elemento\n",
    "    \n",
    "    return elemento_mas_repetido, max_repeticiones\n",
    "\n"
   ]
  },
  {
   "cell_type": "code",
   "execution_count": 5,
   "metadata": {},
   "outputs": [
    {
     "data": {
      "text/plain": [
       "(4, 5)"
      ]
     },
     "execution_count": 5,
     "metadata": {},
     "output_type": "execute_result"
    }
   ],
   "source": [
    "lis_numeros =[1,2,5,3,4,25,1,4,6,8,9,12,4,7,1,7,6,37,1,36,7,4,9,6,3,4]\n",
    "elemento_mas_repetido(lis_numeros)"
   ]
  },
  {
   "attachments": {},
   "cell_type": "markdown",
   "metadata": {},
   "source": [
    "4) Crear una función que convierta entre grados Celsius, Farenheit y Kelvin<br>\n",
    "Fórmula 1\t: (°C × 9/5) + 32 = °F<br>\n",
    "Fórmula 2\t: °C + 273.15 = °K<br>\n",
    "Debe recibir 3 parámetros: el valor, la medida de orígen y la medida de destino\n"
   ]
  },
  {
   "cell_type": "code",
   "execution_count": 6,
   "metadata": {},
   "outputs": [],
   "source": [
    "def convertir_grados(num, grado_orgin,grado_dest):\n",
    "    devuelve_valor= None\n",
    "    if grado_orgin=='celsius':\n",
    "        if grado_dest=='celsius':\n",
    "            devuelve_valor=num\n",
    "        elif grado_dest=='kelvin':\n",
    "            devuelve_valor=num+273.15\n",
    "        elif grado_dest=='farenheit':\n",
    "            devuelve_valor=(num*9/5)+32 \n",
    "        else:\n",
    "            print('Los valores ingresados son incorrectos')\n",
    "    elif grado_orgin=='kelvin':\n",
    "        if grado_dest=='celsius':\n",
    "            devuelve_valor=num-273.15\n",
    "        elif grado_dest=='kelvin':\n",
    "            devuelve_valor=num\n",
    "        elif grado_dest=='farenheit':\n",
    "            devuelve_valor=((num-273.15)*9/5)+32\n",
    "        else: \n",
    "            print('Los valores ingresados son incorrectos')\n",
    "    elif grado_orgin=='farenheit':\n",
    "        if grado_dest=='celsius':\n",
    "            devuelve_valor=(num-32)*5/9\n",
    "        elif grado_dest=='kelvin':\n",
    "            devuelve_valor=((num-32)*5/9)+273.15\n",
    "        elif grado_dest=='farenheit':\n",
    "            devuelve_valor=num\n",
    "        else:\n",
    "            print('Los valores ingresados son incorrectos')\n",
    "    else:\n",
    "        print('Valores ingresados incorrectos')\n",
    "    return devuelve_valor\n"
   ]
  },
  {
   "cell_type": "code",
   "execution_count": 10,
   "metadata": {},
   "outputs": [
    {
     "name": "stdout",
     "output_type": "stream",
     "text": [
      "1\n",
      "274.15\n",
      "33.8\n",
      "-272.15\n",
      "1\n",
      "-457.87\n",
      "-17.22222222222222\n",
      "255.92777777777775\n",
      "1\n"
     ]
    }
   ],
   "source": [
    "print(convertir_grados(1,'celsius','celsius'))\n",
    "print(convertir_grados(1,'celsius','kelvin'))\n",
    "print(convertir_grados(1,'celsius','farenheit'))\n",
    "print(convertir_grados(1,'kelvin','celsius'))\n",
    "print(convertir_grados(1,'kelvin','kelvin'))\n",
    "print(convertir_grados(1,'kelvin','farenheit'))\n",
    "print(convertir_grados(1,'farenheit','celsius'))\n",
    "print(convertir_grados(1,'farenheit','kelvin'))\n",
    "print(convertir_grados(1,'farenheit','farenheit'))"
   ]
  },
  {
   "attachments": {},
   "cell_type": "markdown",
   "metadata": {},
   "source": [
    "5) Iterando una lista con los tres valores posibles de temperatura que recibe la función del punto 5, hacer un print para cada combinación de los mismos:"
   ]
  },
  {
   "cell_type": "code",
   "execution_count": 24,
   "metadata": {},
   "outputs": [
    {
     "name": "stdout",
     "output_type": "stream",
     "text": [
      "1 grado celsius a celsius : 1\n",
      "1 grado celsius a kelvin : 274.15\n",
      "1 grado celsius a farenheit : 33.8\n",
      "1 grado kelvin a celsius : -272.15\n",
      "1 grado kelvin a kelvin : 1\n",
      "1 grado kelvin a farenheit : -457.87\n",
      "1 grado farenheit a celsius : -17.22222222222222\n",
      "1 grado farenheit a kelvin : 255.92777777777775\n",
      "1 grado farenheit a farenheit : 1\n"
     ]
    }
   ],
   "source": [
    "list_grados=['celsius','kelvin','farenheit']\n",
    "for i in range(0,3):\n",
    "    for j in range(0,3):\n",
    "        print('1 grado', list_grados[i], 'a', list_grados[j], ':', convertir_grados(1,list_grados[i],list_grados[j]))"
   ]
  },
  {
   "attachments": {},
   "cell_type": "markdown",
   "metadata": {},
   "source": [
    "6) Armar una función que devuelva el factorial de un número. Tener en cuenta que el usuario puede equivocarse y enviar de parámetro un número no entero o negativo"
   ]
  },
  {
   "cell_type": "code",
   "execution_count": 15,
   "metadata": {},
   "outputs": [],
   "source": [
    "def factorial_num(valor):\n",
    "    if type(valor) != int:\n",
    "        return('Ingrese un número entero')\n",
    "    if valor <0:\n",
    "        return print('El número debe ser positivo')\n",
    "    if valor <=1:\n",
    "        return 1\n",
    "    devuelve_factorial=valor*factorial_num(valor-1)\n",
    "    return devuelve_factorial"
   ]
  },
  {
   "cell_type": "code",
   "execution_count": 22,
   "metadata": {},
   "outputs": [
    {
     "name": "stdout",
     "output_type": "stream",
     "text": [
      "24\n",
      "El número debe ser positivo\n",
      "None\n",
      "Ingrese un número entero\n",
      "Ingrese un número entero\n"
     ]
    }
   ],
   "source": [
    "print(factorial_num(4))\n",
    "print(factorial_num(-5))\n",
    "print(factorial_num('a'))\n",
    "print(factorial_num(0.5))"
   ]
  }
 ],
 "metadata": {
  "interpreter": {
   "hash": "c85384e4cb51c8b72350f3a8712cc8351fdc3955e32a27f9b60c6242ab125f01"
  },
  "kernelspec": {
   "display_name": "Python 3 (ipykernel)",
   "language": "python",
   "name": "python3"
  },
  "language_info": {
   "codemirror_mode": {
    "name": "ipython",
    "version": 3
   },
   "file_extension": ".py",
   "mimetype": "text/x-python",
   "name": "python",
   "nbconvert_exporter": "python",
   "pygments_lexer": "ipython3",
   "version": "3.11.4"
  }
 },
 "nbformat": 4,
 "nbformat_minor": 4
}
