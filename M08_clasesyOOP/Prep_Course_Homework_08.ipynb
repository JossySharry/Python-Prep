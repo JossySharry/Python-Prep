{
 "cells": [
  {
   "attachments": {},
   "cell_type": "markdown",
   "metadata": {},
   "source": [
    "## Clases y Programación Orientada a Objetos"
   ]
  },
  {
   "attachments": {},
   "cell_type": "markdown",
   "metadata": {},
   "source": [
    "1) Crear la clase vehículo que contenga los atributos:<br>\n",
    "Color<br>\n",
    "Si es moto, auto, camioneta ó camión<br>\n",
    "Cilindrada del motor"
   ]
  },
  {
   "cell_type": "code",
   "execution_count": 1,
   "metadata": {},
   "outputs": [],
   "source": [
    "class Vehiculo:\n",
    "    def __init__(self, color, tipo, cilindrada):\n",
    "        self.color=color\n",
    "        self.tipo=tipo\n",
    "        self.cilindrada=cilindrada\n",
    "        "
   ]
  },
  {
   "attachments": {},
   "cell_type": "markdown",
   "metadata": {},
   "source": [
    "2) A la clase Vehiculo creada en el punto 1, agregar los siguientes métodos:<br>\n",
    "Acelerar<br>\n",
    "Frenar<br>\n",
    "Doblar<br>"
   ]
  },
  {
   "cell_type": "code",
   "execution_count": 2,
   "metadata": {},
   "outputs": [],
   "source": [
    "class Vehiculo:\n",
    "    def __init__(self, color, tipo, cilindrada):\n",
    "        self.color=color\n",
    "        self.tipo=tipo\n",
    "        self.cilindrada=cilindrada\n",
    "        self.vel=0 # inicializamos el valor de velocidad en cero\n",
    "        self.direc=0 # inicializamos el valor de direccion en cero\n",
    "    # metodos adicionales\n",
    "    def Acelerar(self,velocidad):\n",
    "        self.vel += velocidad #la velocidad se incrementa \n",
    "    def Frenar(self, velocidad):\n",
    "        self.vel -= velocidad\n",
    "    def Doblar(self, grados):\n",
    "        self.direc += grados\n"
   ]
  },
  {
   "attachments": {},
   "cell_type": "markdown",
   "metadata": {},
   "source": [
    "3) Instanciar 3 objetos de la clase vehículo y ejecutar sus métodos, probar luego el resultado"
   ]
  },
  {
   "cell_type": "code",
   "execution_count": 3,
   "metadata": {},
   "outputs": [],
   "source": [
    "v1 = Vehiculo('amarillo','camioneta',4)\n",
    "v2 = Vehiculo('azul', 'auto',4)\n",
    "v3 = Vehiculo('rojo','moto',1)"
   ]
  },
  {
   "cell_type": "code",
   "execution_count": 4,
   "metadata": {},
   "outputs": [],
   "source": [
    "v1.Acelerar(30)\n",
    "v2.Acelerar(40)\n",
    "v3.Acelerar(50)\n",
    "v1.Doblar(90)\n",
    "v1.Frenar(-20)"
   ]
  },
  {
   "attachments": {},
   "cell_type": "markdown",
   "metadata": {},
   "source": [
    "4) Agregar a la clase Vehiculo, un método que muestre su estado, es decir, a que velocidad se encuentra y su dirección. Y otro método que muestre color, tipo y cilindrada"
   ]
  },
  {
   "cell_type": "code",
   "execution_count": 5,
   "metadata": {},
   "outputs": [],
   "source": [
    "class Vehiculo:\n",
    "    def __init__(self, color, tipo, cilindrada):\n",
    "        self.color=color\n",
    "        self.tipo=tipo\n",
    "        self.cilindrada=cilindrada\n",
    "        self.vel=0 # inicializamos el valor de velocidad en cero\n",
    "        self.direc=0 # inicializamos el valor de direccion en cero\n",
    "    # metodos adicionales\n",
    "    def Acelerar(self,velocidad):\n",
    "        self.vel += velocidad #la velocidad se incrementa \n",
    "    def Frenar(self, velocidad):\n",
    "        self.vel -= velocidad\n",
    "    def Doblar(self, grados):\n",
    "        self.direc += grados\n",
    "    # Agregamos nuevos métodos\n",
    "    def Estado(self):\n",
    "        print ('velocidad:', self.vel, ' Dirección:', self.direc)\n",
    "    def Descripcion(self):\n",
    "        print('Soy', self.tipo,' de color', self.color, ' y mi cilindrada es de : ', self.cilindrada, 'litros')"
   ]
  },
  {
   "cell_type": "code",
   "execution_count": 6,
   "metadata": {},
   "outputs": [
    {
     "name": "stdout",
     "output_type": "stream",
     "text": [
      "Soy camioneta  de color marrón  y mi cilindrada es de :  4 litros\n"
     ]
    }
   ],
   "source": [
    "v1=Vehiculo('marrón', 'camioneta', 4)\n",
    "v1.Descripcion()"
   ]
  },
  {
   "cell_type": "code",
   "execution_count": 7,
   "metadata": {},
   "outputs": [
    {
     "name": "stdout",
     "output_type": "stream",
     "text": [
      "velocidad: 0  Dirección: 0\n",
      "velocidad: 60  Dirección: 90\n"
     ]
    }
   ],
   "source": [
    "v1.Estado()\n",
    "v1.Acelerar(60)\n",
    "v1.Doblar(90)\n",
    "v1.Estado()"
   ]
  },
  {
   "attachments": {},
   "cell_type": "markdown",
   "metadata": {},
   "source": [
    "5) Crear una clase que permita utilizar las funciones creadas en la práctica del módulo 7<br>\n",
    "Verificar Primo<br>\n",
    "Valor modal<br>\n",
    "Conversión grados<br>\n",
    "Factorial<br>"
   ]
  },
  {
   "cell_type": "code",
   "execution_count": 8,
   "metadata": {},
   "outputs": [],
   "source": [
    "class Total_funciones:\n",
    "    def __init__(self) -> None:\n",
    "        pass\n",
    "    \n",
    "    def func_primo(self, num):\n",
    "        primo = True\n",
    "        for i in range(2, num):\n",
    "            if num % i == 0:\n",
    "                primo = False\n",
    "                break\n",
    "        return primo #print('El número', str(num), 'es primo')\n",
    "        \n",
    "    # Valor modal\n",
    "    def elemento_mas_repetido(self,lista):\n",
    "        contador = {}#creamos un diciconario vacio para almacenar la cantidad de veces que un elemento parece en la lista\n",
    "        for elemento in lista:\n",
    "            if elemento in contador:\n",
    "                contador[elemento] += 1\n",
    "            else:\n",
    "                contador[elemento] = 1\n",
    "        \n",
    "        elemento_mas_repetido = None\n",
    "        max_repeticiones = 0\n",
    "        for elemento, repeticiones in contador.items():\n",
    "            if repeticiones > max_repeticiones:\n",
    "                max_repeticiones = repeticiones\n",
    "                elemento_mas_repetido = elemento\n",
    "        \n",
    "        return elemento_mas_repetido, max_repeticiones\n",
    "\n",
    "    # conversion grados\n",
    "    def convertir_grados(self,num, grado_orgin,grado_dest):\n",
    "        devuelve_valor= None\n",
    "        if grado_orgin=='celsius':\n",
    "            if grado_dest=='celsius':\n",
    "                devuelve_valor=num\n",
    "            elif grado_dest=='kelvin':\n",
    "                devuelve_valor=num+273.15\n",
    "            elif grado_dest=='farenheit':\n",
    "                devuelve_valor=(num*9/5)+32 \n",
    "            else:\n",
    "                print('Los valores ingresados son incorrectos')\n",
    "        elif grado_orgin=='kelvin':\n",
    "            if grado_dest=='celsius':\n",
    "                devuelve_valor=num-273.15\n",
    "            elif grado_dest=='kelvin':\n",
    "                devuelve_valor=num\n",
    "            elif grado_dest=='farenheit':\n",
    "                devuelve_valor=((num-273.15)*9/5)+32\n",
    "            else: \n",
    "                print('Los valores ingresados son incorrectos')\n",
    "        elif grado_orgin=='farenheit':\n",
    "            if grado_dest=='celsius':\n",
    "                devuelve_valor=(num-32)*5/9\n",
    "            elif grado_dest=='kelvin':\n",
    "                devuelve_valor=((num-32)*5/9)+273.15\n",
    "            elif grado_dest=='farenheit':\n",
    "                devuelve_valor=num\n",
    "            else:\n",
    "                print('Los valores ingresados son incorrectos')\n",
    "        else:\n",
    "            print('Valores ingresados incorrectos')\n",
    "        return devuelve_valor\n",
    "\n",
    "    # Factorial\n",
    "    def factorial_num(self, valor):\n",
    "        if type(valor) != int:\n",
    "            return('Ingrese un número entero')\n",
    "        if valor <0:\n",
    "            return print('El número debe ser positivo')\n",
    "        if valor <=1:\n",
    "            return 1\n",
    "        devuelve_factorial = valor * self.factorial_num(valor-1)\n",
    "        return devuelve_factorial"
   ]
  },
  {
   "cell_type": "code",
   "execution_count": 9,
   "metadata": {},
   "outputs": [],
   "source": [
    "obs=Total_funciones()"
   ]
  },
  {
   "attachments": {},
   "cell_type": "markdown",
   "metadata": {},
   "source": [
    "6) Probar las funciones incorporadas en la clase del punto 5"
   ]
  },
  {
   "cell_type": "code",
   "execution_count": 10,
   "metadata": {},
   "outputs": [
    {
     "data": {
      "text/plain": [
       "True"
      ]
     },
     "execution_count": 10,
     "metadata": {},
     "output_type": "execute_result"
    }
   ],
   "source": [
    "obs.func_primo(7)"
   ]
  },
  {
   "cell_type": "code",
   "execution_count": 11,
   "metadata": {},
   "outputs": [
    {
     "name": "stdout",
     "output_type": "stream",
     "text": [
      "El valor mas repetido es 4 y aparece  3  veces\n"
     ]
    }
   ],
   "source": [
    "lista = [15,4,7,6,8,24,1,4,3,6,7,6,5,2,4,9,7]\n",
    "num_rep, repetido = obs.elemento_mas_repetido(lista)\n",
    "print('El valor mas repetido es',num_rep,'y aparece ',repetido, ' veces')"
   ]
  },
  {
   "cell_type": "code",
   "execution_count": 12,
   "metadata": {},
   "outputs": [
    {
     "data": {
      "text/plain": [
       "275.15"
      ]
     },
     "execution_count": 12,
     "metadata": {},
     "output_type": "execute_result"
    }
   ],
   "source": [
    "obs.convertir_grados(2, 'celsius','kelvin')"
   ]
  },
  {
   "cell_type": "code",
   "execution_count": 13,
   "metadata": {},
   "outputs": [
    {
     "data": {
      "text/plain": [
       "5040"
      ]
     },
     "execution_count": 13,
     "metadata": {},
     "output_type": "execute_result"
    }
   ],
   "source": [
    "obs.factorial_num(7)"
   ]
  },
  {
   "attachments": {},
   "cell_type": "markdown",
   "metadata": {},
   "source": [
    "7) Es necesario que la clase creada en el punto 5 contenga una lista, sobre la cual se apliquen las funciones incorporadas"
   ]
  },
  {
   "cell_type": "code",
   "execution_count": 14,
   "metadata": {},
   "outputs": [],
   "source": [
    "class Total_funciones:\n",
    "    def __init__(self, lis_num):\n",
    "        self.lista = lis_num\n",
    "    # mostrar primo o no\n",
    "    def func_primo(self):\n",
    "        \n",
    "        for i in self.lista:\n",
    "            if (self.__func_primo(i)):\n",
    "                print('El número', i, 'SI es primo')\n",
    "            else:\n",
    "                print('El número', i, 'NO es primo')\n",
    "    # mostrar grados\n",
    "    def convertir_grados(self, origen, destino):\n",
    "        for i in self.lista:\n",
    "            print(i, 'grados', origen, 'son', self.__convertir_grados(i,origen,destino),'grados', destino)\n",
    "\n",
    "    #mostrar factorial\n",
    "    def factorial_num(self):\n",
    "        for i in self.lista:\n",
    "            print('el factorial de ', i, 'es ', self.__factorial_num(i))\n",
    "\n",
    "    # verifica primo\n",
    "    def __func_primo(self, num):\n",
    "        primo = True\n",
    "        for i in range(2, num):\n",
    "            if num % i == 0:\n",
    "                primo = False\n",
    "                break\n",
    "        return primo #print('El número', str(num), 'es primo')\n",
    "\n",
    "\n",
    "    # Valor modal\n",
    "    def elemento_mas_repetido(self):\n",
    "        contador = {}#creamos un diciconario vacio para almacenar la cantidad de veces que un elemento parece en la lista\n",
    "        for elemento in self.lista:\n",
    "            if elemento in contador:\n",
    "                contador[elemento] += 1\n",
    "            else:\n",
    "                contador[elemento] = 1\n",
    "        \n",
    "        elemento_mas_repetido = None\n",
    "        max_repeticiones = 0\n",
    "        for elemento, repeticiones in contador.items():\n",
    "            if repeticiones > max_repeticiones:\n",
    "                max_repeticiones = repeticiones\n",
    "                elemento_mas_repetido = elemento\n",
    "        \n",
    "        return elemento_mas_repetido, max_repeticiones\n",
    "\n",
    "    # conversion grados\n",
    "    def __convertir_grados(self,num, grado_orgin,grado_dest):\n",
    "        devuelve_valor= None\n",
    "        if grado_orgin=='celsius':\n",
    "            if grado_dest=='celsius':\n",
    "                devuelve_valor=num\n",
    "            elif grado_dest=='kelvin':\n",
    "                devuelve_valor=num+273.15\n",
    "            elif grado_dest=='farenheit':\n",
    "                devuelve_valor=(num*9/5)+32 \n",
    "            else:\n",
    "                print('Los valores ingresados son incorrectos')\n",
    "        elif grado_orgin=='kelvin':\n",
    "            if grado_dest=='celsius':\n",
    "                devuelve_valor=num-273.15\n",
    "            elif grado_dest=='kelvin':\n",
    "                devuelve_valor=num\n",
    "            elif grado_dest=='farenheit':\n",
    "                devuelve_valor=((num-273.15)*9/5)+32\n",
    "            else: \n",
    "                print('Los valores ingresados son incorrectos')\n",
    "        elif grado_orgin=='farenheit':\n",
    "            if grado_dest=='celsius':\n",
    "                devuelve_valor=(num-32)*5/9\n",
    "            elif grado_dest=='kelvin':\n",
    "                devuelve_valor=((num-32)*5/9)+273.15\n",
    "            elif grado_dest=='farenheit':\n",
    "                devuelve_valor=num\n",
    "            else:\n",
    "                print('Los valores ingresados son incorrectos')\n",
    "        else:\n",
    "            print('Valores ingresados incorrectos')\n",
    "        return devuelve_valor\n",
    "\n",
    "    # Factorial\n",
    "    def __factorial_num(self, valor):\n",
    "        if type(valor) != int:\n",
    "            return('Ingrese un número entero')\n",
    "        if valor <0:\n",
    "            return print('El número debe ser positivo')\n",
    "        if valor <=1:\n",
    "            return 1\n",
    "        devuelve_factorial = valor * self.__factorial_num(valor-1)\n",
    "        return devuelve_factorial"
   ]
  },
  {
   "cell_type": "code",
   "execution_count": 15,
   "metadata": {},
   "outputs": [
    {
     "name": "stdout",
     "output_type": "stream",
     "text": [
      "1 grados celsius son 274.15 grados kelvin\n",
      "1 grados celsius son 274.15 grados kelvin\n",
      "2 grados celsius son 275.15 grados kelvin\n",
      "2 grados celsius son 275.15 grados kelvin\n",
      "5 grados celsius son 278.15 grados kelvin\n",
      "8 grados celsius son 281.15 grados kelvin\n",
      "4 grados celsius son 277.15 grados kelvin\n",
      "5 grados celsius son 278.15 grados kelvin\n",
      "2 grados celsius son 275.15 grados kelvin\n"
     ]
    }
   ],
   "source": [
    "b = Total_funciones([1,1,2,2,5,8,4,5,2])\n",
    "b.convertir_grados('celsius','kelvin')"
   ]
  },
  {
   "cell_type": "code",
   "execution_count": 16,
   "metadata": {},
   "outputs": [
    {
     "name": "stdout",
     "output_type": "stream",
     "text": [
      "El número 1 SI es primo\n",
      "El número 1 SI es primo\n",
      "El número 2 SI es primo\n",
      "El número 2 SI es primo\n",
      "El número 5 SI es primo\n",
      "El número 8 NO es primo\n",
      "El número 4 NO es primo\n",
      "El número 5 SI es primo\n",
      "El número 2 SI es primo\n"
     ]
    }
   ],
   "source": [
    "b.func_primo()"
   ]
  },
  {
   "cell_type": "code",
   "execution_count": 17,
   "metadata": {},
   "outputs": [
    {
     "name": "stdout",
     "output_type": "stream",
     "text": [
      "El valor más repetido es  2  y aparece  3  veces\n"
     ]
    }
   ],
   "source": [
    "masrepetido, cant = b.elemento_mas_repetido()\n",
    "print('El valor más repetido es ', masrepetido, ' y aparece ', cant, ' veces')"
   ]
  },
  {
   "cell_type": "code",
   "execution_count": 18,
   "metadata": {},
   "outputs": [
    {
     "name": "stdout",
     "output_type": "stream",
     "text": [
      "el factorial de  1 es  1\n",
      "el factorial de  1 es  1\n",
      "el factorial de  2 es  2\n",
      "el factorial de  2 es  2\n",
      "el factorial de  5 es  120\n",
      "el factorial de  8 es  40320\n",
      "el factorial de  4 es  24\n",
      "el factorial de  5 es  120\n",
      "el factorial de  2 es  2\n"
     ]
    }
   ],
   "source": [
    "b.factorial_num()"
   ]
  },
  {
   "attachments": {},
   "cell_type": "markdown",
   "metadata": {},
   "source": [
    "8) Crear un archivo .py aparte y ubicar allí la clase generada en el punto anterior. Luego realizar la importación del módulo y probar alguna de sus funciones"
   ]
  },
  {
   "cell_type": "code",
   "execution_count": 19,
   "metadata": {},
   "outputs": [],
   "source": [
    "from consolidado import *"
   ]
  },
  {
   "cell_type": "code",
   "execution_count": 20,
   "metadata": {},
   "outputs": [],
   "source": [
    "c = Total_funciones([2,5,4,2,1,3,7])"
   ]
  },
  {
   "cell_type": "code",
   "execution_count": 21,
   "metadata": {},
   "outputs": [
    {
     "name": "stdout",
     "output_type": "stream",
     "text": [
      "El número 2 SI es primo\n",
      "El número 5 SI es primo\n",
      "El número 4 NO es primo\n",
      "El número 2 SI es primo\n",
      "El número 1 SI es primo\n",
      "El número 3 SI es primo\n",
      "El número 7 SI es primo\n"
     ]
    }
   ],
   "source": [
    "c.func_primo()"
   ]
  },
  {
   "cell_type": "code",
   "execution_count": 22,
   "metadata": {},
   "outputs": [
    {
     "data": {
      "text/plain": [
       "(2, 2)"
      ]
     },
     "execution_count": 22,
     "metadata": {},
     "output_type": "execute_result"
    }
   ],
   "source": [
    "c.elemento_mas_repetido()"
   ]
  },
  {
   "cell_type": "code",
   "execution_count": 24,
   "metadata": {},
   "outputs": [
    {
     "name": "stdout",
     "output_type": "stream",
     "text": [
      "el factorial de  2 es  2\n",
      "el factorial de  5 es  120\n",
      "el factorial de  4 es  24\n",
      "el factorial de  2 es  2\n",
      "el factorial de  1 es  1\n",
      "el factorial de  3 es  6\n",
      "el factorial de  7 es  5040\n"
     ]
    }
   ],
   "source": [
    "c.factorial_num()"
   ]
  },
  {
   "cell_type": "code",
   "execution_count": 25,
   "metadata": {},
   "outputs": [
    {
     "name": "stdout",
     "output_type": "stream",
     "text": [
      "2 grados kelvin son -271.15 grados celsius\n",
      "5 grados kelvin son -268.15 grados celsius\n",
      "4 grados kelvin son -269.15 grados celsius\n",
      "2 grados kelvin son -271.15 grados celsius\n",
      "1 grados kelvin son -272.15 grados celsius\n",
      "3 grados kelvin son -270.15 grados celsius\n",
      "7 grados kelvin son -266.15 grados celsius\n"
     ]
    }
   ],
   "source": [
    "c.convertir_grados('kelvin','celsius')"
   ]
  }
 ],
 "metadata": {
  "interpreter": {
   "hash": "c85384e4cb51c8b72350f3a8712cc8351fdc3955e32a27f9b60c6242ab125f01"
  },
  "kernelspec": {
   "display_name": "Python 3 (ipykernel)",
   "language": "python",
   "name": "python3"
  },
  "language_info": {
   "codemirror_mode": {
    "name": "ipython",
    "version": 3
   },
   "file_extension": ".py",
   "mimetype": "text/x-python",
   "name": "python",
   "nbconvert_exporter": "python",
   "pygments_lexer": "ipython3",
   "version": "undefined.undefined.undefined"
  }
 },
 "nbformat": 4,
 "nbformat_minor": 4
}
