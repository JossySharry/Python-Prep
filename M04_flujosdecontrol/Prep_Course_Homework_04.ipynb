{
 "cells": [
  {
   "attachments": {},
   "cell_type": "markdown",
   "metadata": {},
   "source": [
    "## Flujos de Control"
   ]
  },
  {
   "attachments": {},
   "cell_type": "markdown",
   "metadata": {},
   "source": [
    "1) Crear una variable que contenga un elemento del conjunto de números enteros y luego imprimir por pantalla si es mayor o menor a cero"
   ]
  },
  {
   "cell_type": "code",
   "execution_count": 3,
   "metadata": {},
   "outputs": [
    {
     "name": "stdout",
     "output_type": "stream",
     "text": [
      "El número es menor que cero\n"
     ]
    }
   ],
   "source": [
    "x = -86\n",
    "if (x > 0):\n",
    "    print(\"El número es mayor que cero\")\n",
    "elif (x < 0):\n",
    "    print('El número es menor que cero')\n",
    "else: \n",
    "    print('El número es igual a cero')"
   ]
  },
  {
   "attachments": {},
   "cell_type": "markdown",
   "metadata": {},
   "source": [
    "2) Crear dos variables y un condicional que informe si son del mismo tipo de dato"
   ]
  },
  {
   "cell_type": "code",
   "execution_count": 18,
   "metadata": {},
   "outputs": [
    {
     "name": "stdout",
     "output_type": "stream",
     "text": [
      "Las variables tienen diferentes tipos de datos\n"
     ]
    }
   ],
   "source": [
    "letra= \"Hola\"\n",
    "a=20\n",
    "if (type(letra)==type(a)):\n",
    "    print('Las dos variables ingresadas son del mismo tipo de dato')\n",
    "else: print('Las variables tienen diferentes tipos de datos')\n"
   ]
  },
  {
   "attachments": {},
   "cell_type": "markdown",
   "metadata": {},
   "source": [
    "3) Para los valores enteros del 1 al 20, imprimir por pantalla si es par o impar"
   ]
  },
  {
   "cell_type": "code",
   "execution_count": 17,
   "metadata": {},
   "outputs": [
    {
     "name": "stdout",
     "output_type": "stream",
     "text": [
      "El número  1  es impar\n",
      "El número  2  es par\n",
      "El número  3  es impar\n",
      "El número  4  es par\n",
      "El número  5  es impar\n",
      "El número  6  es par\n",
      "El número  7  es impar\n",
      "El número  8  es par\n",
      "El número  9  es impar\n",
      "El número  10  es par\n",
      "El número  11  es impar\n",
      "El número  12  es par\n",
      "El número  13  es impar\n",
      "El número  14  es par\n",
      "El número  15  es impar\n",
      "El número  16  es par\n",
      "El número  17  es impar\n",
      "El número  18  es par\n",
      "El número  19  es impar\n",
      "El número  20  es par\n"
     ]
    }
   ],
   "source": [
    "\n",
    "for i in range(1,21):\n",
    "    if (i % 2 == 0):\n",
    "        print('El número ', str(i), ' es par')\n",
    "    else:\n",
    "        print('El número ', str(i),' es impar' )\n"
   ]
  },
  {
   "attachments": {},
   "cell_type": "markdown",
   "metadata": {},
   "source": [
    "4) En un ciclo for mostrar para los valores entre 0 y 5 el resultado de elevarlo a la potencia igual a 3"
   ]
  },
  {
   "cell_type": "code",
   "execution_count": 26,
   "metadata": {},
   "outputs": [
    {
     "name": "stdout",
     "output_type": "stream",
     "text": [
      "Para el valor de 0 El resultado  de elevar a la 3era pontencia es 0\n",
      "Para el valor de 1 El resultado  de elevar a la 3era pontencia es 1\n",
      "Para el valor de 2 El resultado  de elevar a la 3era pontencia es 8\n",
      "Para el valor de 3 El resultado  de elevar a la 3era pontencia es 27\n",
      "Para el valor de 4 El resultado  de elevar a la 3era pontencia es 64\n",
      "Para el valor de 5 El resultado  de elevar a la 3era pontencia es 125\n"
     ]
    }
   ],
   "source": [
    "for i in range(0,6):\n",
    "    \n",
    "    print('Para el valor de',str(i),'El resultado  de elevar a la 3era pontencia es',str(i**3))"
   ]
  },
  {
   "attachments": {},
   "cell_type": "markdown",
   "metadata": {},
   "source": [
    "5) Crear una variable que contenga un número entero y realizar un ciclo for la misma cantidad de ciclos"
   ]
  },
  {
   "cell_type": "code",
   "execution_count": 28,
   "metadata": {},
   "outputs": [
    {
     "name": "stdout",
     "output_type": "stream",
     "text": [
      "ciclo 1\n",
      "ciclo 2\n",
      "ciclo 3\n",
      "ciclo 4\n",
      "ciclo 5\n",
      "ciclo 6\n",
      "ciclo 7\n",
      "ciclo 8\n",
      "ciclo 9\n",
      "ciclo 10\n",
      "ciclo 11\n",
      "ciclo 12\n"
     ]
    }
   ],
   "source": [
    "z=12\n",
    "for i in range(1,(z+1)):\n",
    "    print('ciclo', str(i))"
   ]
  },
  {
   "attachments": {},
   "cell_type": "markdown",
   "metadata": {},
   "source": [
    "6) Utilizar un ciclo while para realizar el factorial de un número guardado en una variable, sólo si la variable contiene un número entero mayor a 0"
   ]
  },
  {
   "cell_type": "code",
   "execution_count": 36,
   "metadata": {},
   "outputs": [
    {
     "name": "stdout",
     "output_type": "stream",
     "text": [
      "El factorial es 1307674368000\n"
     ]
    }
   ],
   "source": [
    "d=15\n",
    "if (type(d)==int):\n",
    "    if (d>0):\n",
    "        factorial=d\n",
    "        while(d>2):\n",
    "            d=d-1\n",
    "            factorial=factorial*d\n",
    "        print('El factorial es', factorial)\n",
    "    else:\n",
    "        print('El número es menor a cero')\n",
    "else:\n",
    "    print('El número no es entero')"
   ]
  },
  {
   "attachments": {},
   "cell_type": "markdown",
   "metadata": {},
   "source": [
    "7) Crear un ciclo for dentro de un ciclo while"
   ]
  },
  {
   "cell_type": "code",
   "execution_count": 75,
   "metadata": {},
   "outputs": [
    {
     "name": "stdout",
     "output_type": "stream",
     "text": [
      "bucle while 1\n",
      "bucle for 1\n",
      "bucle while 2\n",
      "bucle for 1\n",
      "bucle for 2\n",
      "bucle while 3\n",
      "bucle for 1\n",
      "bucle for 2\n",
      "bucle for 3\n"
     ]
    }
   ],
   "source": [
    "\n",
    "d=1\n",
    "while d < 4:\n",
    "    print('bucle while', str(d))\n",
    "    for i in range (1,d+1):\n",
    "        print('bucle for', str(i))  \n",
    "    d=d+1"
   ]
  },
  {
   "attachments": {},
   "cell_type": "markdown",
   "metadata": {},
   "source": [
    "8) Crear un ciclo while dentro de un ciclo for"
   ]
  },
  {
   "cell_type": "code",
   "execution_count": 82,
   "metadata": {},
   "outputs": [
    {
     "name": "stdout",
     "output_type": "stream",
     "text": [
      "ciclo for 0\n",
      "ciclo while 0\n",
      "ciclo while 1\n",
      "ciclo while 2\n",
      "ciclo for 1\n",
      "ciclo while 1\n",
      "ciclo while 2\n",
      "ciclo for 2\n",
      "ciclo while 2\n",
      "ciclo for 3\n"
     ]
    }
   ],
   "source": [
    "num=4\n",
    "for i in range(num):\n",
    "    print('ciclo for', str(i))\n",
    "    j=i\n",
    "    while j<(num-1):\n",
    "        print('ciclo while', str(j))\n",
    "        j+=1\n"
   ]
  },
  {
   "attachments": {},
   "cell_type": "markdown",
   "metadata": {},
   "source": [
    "9) Imprimir los números primos existentes entre 0 y 30"
   ]
  },
  {
   "cell_type": "code",
   "execution_count": 13,
   "metadata": {},
   "outputs": [
    {
     "name": "stdout",
     "output_type": "stream",
     "text": [
      "El número 2 es primo\n",
      "El número 3 es primo\n",
      "El número 5 es primo\n",
      "El número 7 es primo\n",
      "El número 11 es primo\n",
      "El número 13 es primo\n",
      "El número 17 es primo\n",
      "El número 19 es primo\n",
      "El número 23 es primo\n",
      "El número 29 es primo\n",
      "El número de iteraciones sin break es de:\n",
      "378\n"
     ]
    }
   ],
   "source": [
    "max=30\n",
    "n=2\n",
    "primo=True\n",
    "contadorsin_break=0\n",
    "while n < max:\n",
    "    \n",
    "    for i in range(2,n):\n",
    "        if (n % i ==0):\n",
    "            primo= False\n",
    "        contadorsin_break+=1          \n",
    "    if(primo):\n",
    "        print('El número', str(n), 'es primo')\n",
    "    else:\n",
    "        primo= True\n",
    "    n += 1\n",
    "    \n",
    "print('El número de iteraciones sin break es de:')\n",
    "print(contadorsin_break)"
   ]
  },
  {
   "attachments": {},
   "cell_type": "markdown",
   "metadata": {},
   "source": [
    "10) ¿Se puede mejorar el proceso del punto 9? Utilizar las sentencias break y/ó continue para tal fin"
   ]
  },
  {
   "cell_type": "code",
   "execution_count": 12,
   "metadata": {},
   "outputs": [
    {
     "name": "stdout",
     "output_type": "stream",
     "text": [
      "El número 2 es primo\n",
      "El número 3 es primo\n",
      "El número 5 es primo\n",
      "El número 7 es primo\n",
      "El número 11 es primo\n",
      "El número 13 es primo\n",
      "El número 17 es primo\n",
      "El número 19 es primo\n",
      "El número 23 es primo\n",
      "El número 29 es primo\n",
      "El número de iteraciones con \"break\" es:\n",
      "116\n"
     ]
    }
   ],
   "source": [
    "max_num = 30\n",
    "n = 2  # Comenzamos desde 2, ya que 0 y 1 no son primos\n",
    "count_break=0\n",
    "while n < max_num:\n",
    "    primo = True  # Suponemos que n es primo hasta que se demuestre lo contrario\n",
    "    \n",
    "    for i in range(2, n):\n",
    "        if n % i == 0:\n",
    "            primo = False\n",
    "            break  # Salimos del bucle for si encontramos un divisor\n",
    "        count_break+=1\n",
    "    if primo:\n",
    "        print('El número', str(n), 'es primo')\n",
    "    n += 1\n",
    "print('El número de iteraciones con \"break\" es:')\n",
    "print(count_break)"
   ]
  },
  {
   "attachments": {},
   "cell_type": "markdown",
   "metadata": {},
   "source": [
    "11) En los puntos 9 y 10, se diseño un código que encuentra números primos y además se lo optimizó. ¿Es posible saber en qué medida se optimizó?"
   ]
  },
  {
   "cell_type": "code",
   "execution_count": null,
   "metadata": {},
   "outputs": [],
   "source": [
    "# Si es posible, por ello se agrego en un puntos 9 y 10 una nueva variable que cuenta las iteraciones realizadas sin break y con break\n",
    "# respectivamente, obervandose que en el punto 9 se realizan 378 iteraciones, mientra que en el punto 9 se realizan 116 iteraciones.\n",
    "# por lo tanto utilizar \"break\", hace que el código se más."
   ]
  },
  {
   "attachments": {},
   "cell_type": "markdown",
   "metadata": {},
   "source": [
    "12) Aplicando continue, armar un ciclo while que solo imprima los valores divisibles por 12, dentro del rango de números de 100 a 300"
   ]
  },
  {
   "cell_type": "code",
   "execution_count": 20,
   "metadata": {},
   "outputs": [
    {
     "name": "stdout",
     "output_type": "stream",
     "text": [
      "El número 108 es divisible por 12\n",
      "El número 120 es divisible por 12\n",
      "El número 132 es divisible por 12\n",
      "El número 144 es divisible por 12\n",
      "El número 156 es divisible por 12\n",
      "El número 168 es divisible por 12\n",
      "El número 180 es divisible por 12\n",
      "El número 192 es divisible por 12\n",
      "El número 204 es divisible por 12\n",
      "El número 216 es divisible por 12\n",
      "El número 228 es divisible por 12\n",
      "El número 240 es divisible por 12\n",
      "El número 252 es divisible por 12\n",
      "El número 264 es divisible por 12\n",
      "El número 276 es divisible por 12\n",
      "El número 288 es divisible por 12\n",
      "El número 300 es divisible por 12\n"
     ]
    }
   ],
   "source": [
    "max_num = 300\n",
    "n = 100  # Comenzamos desde 100\n",
    "\n",
    "while n <= max_num:\n",
    "       \n",
    "    if n % 12 != 0:\n",
    "        n+=1\n",
    "        continue  # Si n no es divisible por 12, pasamos al siguiente número\n",
    "    \n",
    "    print('El número', str(n), 'es divisible por 12')\n",
    "    n += 1\n",
    "\n"
   ]
  },
  {
   "attachments": {},
   "cell_type": "markdown",
   "metadata": {},
   "source": [
    "13) Utilizar la función **input()** que permite hacer ingresos por teclado, para encontrar números primos y dar la opción al usario de buscar el siguiente"
   ]
  },
  {
   "cell_type": "code",
   "execution_count": 7,
   "metadata": {},
   "outputs": [
    {
     "name": "stdout",
     "output_type": "stream",
     "text": [
      "El número 2 es primo\n",
      "El número 45 no es primo\n",
      "El número 25 no es primo\n",
      "El número 11 es primo\n",
      "El número 16 no es primo\n",
      "El número 18 no es primo\n",
      "El número 283 es primo\n",
      "El número 15 no es primo\n",
      "El número 9 no es primo\n",
      "El número 7 es primo\n"
     ]
    }
   ],
   "source": [
    "max_num = int(input(\"Ingrese un número máximo para verificar los primos: \"))\n",
    "n = 2  # Comenzamos desde 2, ya que 0 y 1 no son primos\n",
    "\n",
    "while n < max_num:\n",
    "    primo = True  # Suponemos que n es primo hasta que se demuestre lo contrario\n",
    "    \n",
    "    for i in range(2, n):\n",
    "        if n % i == 0:\n",
    "            primo = False\n",
    "            break  # Salimos del bucle for si encontramos un divisor\n",
    "   \n",
    "    if primo:\n",
    "        print('El número', str(n), 'es primo')\n",
    "    else:\n",
    "        print('El número', str(n), 'no es primo')\n",
    "        \n",
    "    n = int(input(\"Ingrese otro número para verificar si es primo o no (ingrese 0 para terminar): \"))\n",
    "    if n == 0:\n",
    "        break\n"
   ]
  },
  {
   "attachments": {},
   "cell_type": "markdown",
   "metadata": {},
   "source": [
    "14) Crear un ciclo while que encuentre dentro del rango de 100 a 300 el primer número divisible por 3 y además múltiplo de 6"
   ]
  },
  {
   "cell_type": "code",
   "execution_count": 33,
   "metadata": {},
   "outputs": [
    {
     "name": "stdout",
     "output_type": "stream",
     "text": [
      "El número 102 es divisible por 3 y multiplo de 6\n"
     ]
    }
   ],
   "source": [
    "max_num = 300\n",
    "n = 100  # Comenzamos desde 100\n",
    "\n",
    "while n <= max_num:\n",
    "       \n",
    "    if n % 6 == 0 and n % 3 == 0:\n",
    "       print('El número', str(n), 'es divisible por 3 y multiplo de 6')\n",
    "       break # Si n no es divisible por 3, y multiplo de 6\n",
    "    n += 1\n",
    " "
   ]
  }
 ],
 "metadata": {
  "interpreter": {
   "hash": "c85384e4cb51c8b72350f3a8712cc8351fdc3955e32a27f9b60c6242ab125f01"
  },
  "kernelspec": {
   "display_name": "Python 3 (ipykernel)",
   "language": "python",
   "name": "python3"
  },
  "language_info": {
   "codemirror_mode": {
    "name": "ipython",
    "version": 3
   },
   "file_extension": ".py",
   "mimetype": "text/x-python",
   "name": "python",
   "nbconvert_exporter": "python",
   "pygments_lexer": "ipython3",
   "version": "3.11.4"
  }
 },
 "nbformat": 4,
 "nbformat_minor": 4
}
